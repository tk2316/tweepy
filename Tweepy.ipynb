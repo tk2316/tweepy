{
 "cells": [
  {
   "cell_type": "code",
   "execution_count": 1,
   "id": "cb5fa10f",
   "metadata": {},
   "outputs": [],
   "source": [
    "import tweepy\n",
    "import pandas as pd\n",
    "pd.set_option('display.max_colwidth', None)\n",
    "import warnings\n",
    "import matplotlib.pyplot as plt\n",
    "import re\n",
    "import spacy\n",
    "nlp = spacy.load('en_core_web_lg')\n",
    "import seaborn as sns\n",
    "warnings.filterwarnings('ignore')\n",
    "auth = tweepy.OAuthHandler('QiaHUdmOL7x6AR1ezdV9ShWqw', 'CpDybBKlO3l6lh09daBcMRSHcZeSBC6Fxwa4CKcoYct7RRJyL0')\n",
    "auth.set_access_token('943727575360245760-oNH0ANnTELN5MuCLsgagOJn1GzprFZH', 'dGEtWp2VAiA8vfTOa6oAajqbwyrf15qzq8rDiYQb3xA0q')\n",
    "api = tweepy.API(auth)"
   ]
  },
  {
   "cell_type": "code",
   "execution_count": 2,
   "id": "0920b62e",
   "metadata": {},
   "outputs": [],
   "source": [
    "# searching a user and the user's tweets\n",
    "\n",
    "#cursor = tweepy.Cursor(api.user_timeline, id ='Potus', tweet_mode = 'extended').items(3)  #items is the number of tweets we want to see\n",
    "\n",
    "#for i in cursor:\n",
    "    # print(i) # displays in json format\n",
    "    # print(i.full_text)  # displays tweets\n",
    "    # print()\n",
    "      "
   ]
  },
  {
   "cell_type": "code",
   "execution_count": 3,
   "id": "2cf3afaf",
   "metadata": {},
   "outputs": [],
   "source": [
    "# using the twitter search to look up a keyword\n",
    "\n",
    "# cursor = tweepy.Cursor(api.search_tweets, q=\"Ethereum\", tweet_mode = 'extended').items(1) \n",
    "\n",
    "# for i in cursor:\n",
    "#    print(i.full_text)"
   ]
  },
  {
   "cell_type": "code",
   "execution_count": 4,
   "id": "efbe7243",
   "metadata": {},
   "outputs": [
    {
     "name": "stderr",
     "output_type": "stream",
     "text": [
      "Unexpected parameter: id\n"
     ]
    },
    {
     "name": "stdout",
     "output_type": "stream",
     "text": [
      "['__class__', '__delattr__', '__dict__', '__dir__', '__doc__', '__eq__', '__format__', '__ge__', '__getattribute__', '__getstate__', '__gt__', '__hash__', '__init__', '__init_subclass__', '__le__', '__lt__', '__module__', '__ne__', '__new__', '__reduce__', '__reduce_ex__', '__repr__', '__setattr__', '__sizeof__', '__slots__', '__str__', '__subclasshook__', '__weakref__', '_api', '_json', 'author', 'contributors', 'coordinates', 'created_at', 'destroy', 'display_text_range', 'entities', 'extended_entities', 'favorite', 'favorite_count', 'favorited', 'full_text', 'geo', 'id', 'id_str', 'in_reply_to_screen_name', 'in_reply_to_status_id', 'in_reply_to_status_id_str', 'in_reply_to_user_id', 'in_reply_to_user_id_str', 'is_quote_status', 'lang', 'parse', 'parse_list', 'place', 'possibly_sensitive', 'retweet', 'retweet_count', 'retweeted', 'retweets', 'source', 'source_url', 'truncated', 'user']\n"
     ]
    }
   ],
   "source": [
    "# print(dir(i))  # displays information contained in a single tweet such as... likes count, time of post, etc,\n",
    "\n",
    "cursor = tweepy.Cursor(api.user_timeline, id ='Potus', tweet_mode = 'extended').items(1)  #items is the number of tweets we want to see\n",
    "for i in cursor:\n",
    "    print(dir(i))\n",
    "    "
   ]
  },
  {
   "cell_type": "code",
   "execution_count": 5,
   "id": "57245d9a",
   "metadata": {},
   "outputs": [
    {
     "name": "stderr",
     "output_type": "stream",
     "text": [
      "Unexpected parameter: id\n",
      "Unexpected parameter: id\n",
      "Unexpected parameter: id\n",
      "Unexpected parameter: id\n",
      "Unexpected parameter: id\n",
      "Unexpected parameter: id\n",
      "Unexpected parameter: id\n",
      "Unexpected parameter: id\n",
      "Unexpected parameter: id\n",
      "Unexpected parameter: id\n"
     ]
    }
   ],
   "source": [
    "# Making a dataframe of 200 tweets posted by Joe Biden with likes count and time of post. \n",
    "number_of_tweets = 200\n",
    "tweets = []\n",
    "likes = []\n",
    "time = []\n",
    "\n",
    "for i in tweepy.Cursor(api.user_timeline, id = 'Potus', tweet_mode ='extended').items(number_of_tweets):\n",
    "    tweets.append(i.full_text)\n",
    "    likes.append(i.favorite_count)\n",
    "    time.append(i.created_at)"
   ]
  },
  {
   "cell_type": "code",
   "execution_count": 6,
   "id": "18992562",
   "metadata": {},
   "outputs": [],
   "source": [
    "df = pd.DataFrame({'tweets' : tweets, \"likes\" : likes, \"time\" : time})"
   ]
  },
  {
   "cell_type": "code",
   "execution_count": 7,
   "id": "aa749b86",
   "metadata": {},
   "outputs": [
    {
     "data": {
      "text/html": [
       "<div>\n",
       "<style scoped>\n",
       "    .dataframe tbody tr th:only-of-type {\n",
       "        vertical-align: middle;\n",
       "    }\n",
       "\n",
       "    .dataframe tbody tr th {\n",
       "        vertical-align: top;\n",
       "    }\n",
       "\n",
       "    .dataframe thead th {\n",
       "        text-align: right;\n",
       "    }\n",
       "</style>\n",
       "<table border=\"1\" class=\"dataframe\">\n",
       "  <thead>\n",
       "    <tr style=\"text-align: right;\">\n",
       "      <th></th>\n",
       "      <th>tweets</th>\n",
       "      <th>likes</th>\n",
       "      <th>time</th>\n",
       "    </tr>\n",
       "  </thead>\n",
       "  <tbody>\n",
       "    <tr>\n",
       "      <th>0</th>\n",
       "      <td>No class gets to choose the world into which they graduate. But few classes enter at a point in history where they actually have a chance to change the trajectory of the country.\\n\\nWe face an inflection point today. And I’m confident the class of 2021 will meet the moment. https://t.co/sDFvvT3CKi</td>\n",
       "      <td>8783</td>\n",
       "      <td>2021-12-18 01:27:50+00:00</td>\n",
       "    </tr>\n",
       "    <tr>\n",
       "      <th>1</th>\n",
       "      <td>Since I took office, nearly 6 million jobs have been created, over 200 million Americans are fully vaccinated, and unemployment claims are the lowest on average since 1969.\\n \\nThese things didn’t happen by accident — they’re because of the American Rescue Plan.</td>\n",
       "      <td>39832</td>\n",
       "      <td>2021-12-17 23:40:44+00:00</td>\n",
       "    </tr>\n",
       "    <tr>\n",
       "      <th>2</th>\n",
       "      <td>Every kid in America should be able to turn on the faucet and drink clean water.\\n \\nMy Bipartisan Infrastructure Law is going to make that a reality.</td>\n",
       "      <td>22624</td>\n",
       "      <td>2021-12-17 18:45:29+00:00</td>\n",
       "    </tr>\n",
       "    <tr>\n",
       "      <th>3</th>\n",
       "      <td>In my first year in office, we’ve passed two of the most important pieces of economic legislation in decades.\\n \\nThe third is in its final stages — and I’m confident we’ll get it passed.</td>\n",
       "      <td>30555</td>\n",
       "      <td>2021-12-17 17:59:02+00:00</td>\n",
       "    </tr>\n",
       "    <tr>\n",
       "      <th>4</th>\n",
       "      <td>Tune in as I deliver remarks at South Carolina State University’s 2021 Fall Commencement Ceremony. https://t.co/FCfTwsZumy</td>\n",
       "      <td>4171</td>\n",
       "      <td>2021-12-17 15:26:42+00:00</td>\n",
       "    </tr>\n",
       "    <tr>\n",
       "      <th>...</th>\n",
       "      <td>...</td>\n",
       "      <td>...</td>\n",
       "      <td>...</td>\n",
       "    </tr>\n",
       "    <tr>\n",
       "      <th>195</th>\n",
       "      <td>To Lawrence – and every veteran out there – thank you for selfless service and sacrifice for our nation. We owe you a debt we can never fully repay. https://t.co/nUNR9Br2UX</td>\n",
       "      <td>13608</td>\n",
       "      <td>2021-11-21 16:00:18+00:00</td>\n",
       "    </tr>\n",
       "    <tr>\n",
       "      <th>196</th>\n",
       "      <td>With the Bipartisan Infrastructure Law, we will once again have the best roads, bridges, ports, and airports.\\n\\nWe will lead the world into the 21st century with modern cars and trucks and transit systems.\\n\\nWe will be building and moving again.</td>\n",
       "      <td>18952</td>\n",
       "      <td>2021-11-21 15:11:30+00:00</td>\n",
       "    </tr>\n",
       "    <tr>\n",
       "      <th>197</th>\n",
       "      <td>Congratulations to the Washington Spirit on winning your first-ever NWSL championship. Despite a year with no shortage of challenges, you’ve made the District and your country very proud.</td>\n",
       "      <td>28328</td>\n",
       "      <td>2021-11-20 22:45:36+00:00</td>\n",
       "    </tr>\n",
       "    <tr>\n",
       "      <th>198</th>\n",
       "      <td>Unions built the middle class in this country – and we couldn’t have gotten this infrastructure law done without them. https://t.co/5MjEZpNXM0</td>\n",
       "      <td>19959</td>\n",
       "      <td>2021-11-20 21:19:39+00:00</td>\n",
       "    </tr>\n",
       "    <tr>\n",
       "      <th>199</th>\n",
       "      <td>Last year alone in the United States, extreme weather events caused $99 billion in damage.\\n \\nThe Bipartisan Infrastructure Law builds back our bridges, water systems, power lines, and levees better and stronger.</td>\n",
       "      <td>15708</td>\n",
       "      <td>2021-11-20 19:23:50+00:00</td>\n",
       "    </tr>\n",
       "  </tbody>\n",
       "</table>\n",
       "<p>200 rows × 3 columns</p>\n",
       "</div>"
      ],
      "text/plain": [
       "                                                                                                                                                                                                                                                                                                         tweets  \\\n",
       "0    No class gets to choose the world into which they graduate. But few classes enter at a point in history where they actually have a chance to change the trajectory of the country.\\n\\nWe face an inflection point today. And I’m confident the class of 2021 will meet the moment. https://t.co/sDFvvT3CKi   \n",
       "1                                        Since I took office, nearly 6 million jobs have been created, over 200 million Americans are fully vaccinated, and unemployment claims are the lowest on average since 1969.\\n \\nThese things didn’t happen by accident — they’re because of the American Rescue Plan.   \n",
       "2                                                                                                                                                        Every kid in America should be able to turn on the faucet and drink clean water.\\n \\nMy Bipartisan Infrastructure Law is going to make that a reality.   \n",
       "3                                                                                                                   In my first year in office, we’ve passed two of the most important pieces of economic legislation in decades.\\n \\nThe third is in its final stages — and I’m confident we’ll get it passed.   \n",
       "4                                                                                                                                                                                    Tune in as I deliver remarks at South Carolina State University’s 2021 Fall Commencement Ceremony. https://t.co/FCfTwsZumy   \n",
       "..                                                                                                                                                                                                                                                                                                          ...   \n",
       "195                                                                                                                                To Lawrence – and every veteran out there – thank you for selfless service and sacrifice for our nation. We owe you a debt we can never fully repay. https://t.co/nUNR9Br2UX   \n",
       "196                                                     With the Bipartisan Infrastructure Law, we will once again have the best roads, bridges, ports, and airports.\\n\\nWe will lead the world into the 21st century with modern cars and trucks and transit systems.\\n\\nWe will be building and moving again.   \n",
       "197                                                                                                                 Congratulations to the Washington Spirit on winning your first-ever NWSL championship. Despite a year with no shortage of challenges, you’ve made the District and your country very proud.   \n",
       "198                                                                                                                                                              Unions built the middle class in this country – and we couldn’t have gotten this infrastructure law done without them. https://t.co/5MjEZpNXM0   \n",
       "199                                                                                       Last year alone in the United States, extreme weather events caused $99 billion in damage.\\n \\nThe Bipartisan Infrastructure Law builds back our bridges, water systems, power lines, and levees better and stronger.   \n",
       "\n",
       "     likes                      time  \n",
       "0     8783 2021-12-18 01:27:50+00:00  \n",
       "1    39832 2021-12-17 23:40:44+00:00  \n",
       "2    22624 2021-12-17 18:45:29+00:00  \n",
       "3    30555 2021-12-17 17:59:02+00:00  \n",
       "4     4171 2021-12-17 15:26:42+00:00  \n",
       "..     ...                       ...  \n",
       "195  13608 2021-11-21 16:00:18+00:00  \n",
       "196  18952 2021-11-21 15:11:30+00:00  \n",
       "197  28328 2021-11-20 22:45:36+00:00  \n",
       "198  19959 2021-11-20 21:19:39+00:00  \n",
       "199  15708 2021-11-20 19:23:50+00:00  \n",
       "\n",
       "[200 rows x 3 columns]"
      ]
     },
     "execution_count": 7,
     "metadata": {},
     "output_type": "execute_result"
    }
   ],
   "source": [
    "df"
   ]
  },
  {
   "cell_type": "code",
   "execution_count": 8,
   "id": "fd6cd760",
   "metadata": {},
   "outputs": [],
   "source": [
    "df = df[~df.tweets.str.contains('RT')]  # using the ~ not operator to get rid of retweets from dataframe"
   ]
  },
  {
   "cell_type": "code",
   "execution_count": 9,
   "id": "8e6b55da",
   "metadata": {},
   "outputs": [
    {
     "data": {
      "text/html": [
       "<div>\n",
       "<style scoped>\n",
       "    .dataframe tbody tr th:only-of-type {\n",
       "        vertical-align: middle;\n",
       "    }\n",
       "\n",
       "    .dataframe tbody tr th {\n",
       "        vertical-align: top;\n",
       "    }\n",
       "\n",
       "    .dataframe thead th {\n",
       "        text-align: right;\n",
       "    }\n",
       "</style>\n",
       "<table border=\"1\" class=\"dataframe\">\n",
       "  <thead>\n",
       "    <tr style=\"text-align: right;\">\n",
       "      <th></th>\n",
       "      <th>tweets</th>\n",
       "      <th>likes</th>\n",
       "      <th>time</th>\n",
       "    </tr>\n",
       "  </thead>\n",
       "  <tbody>\n",
       "    <tr>\n",
       "      <th>0</th>\n",
       "      <td>No class gets to choose the world into which they graduate. But few classes enter at a point in history where they actually have a chance to change the trajectory of the country.\\n\\nWe face an inflection point today. And I’m confident the class of 2021 will meet the moment. https://t.co/sDFvvT3CKi</td>\n",
       "      <td>8783</td>\n",
       "      <td>2021-12-18 01:27:50+00:00</td>\n",
       "    </tr>\n",
       "    <tr>\n",
       "      <th>1</th>\n",
       "      <td>Since I took office, nearly 6 million jobs have been created, over 200 million Americans are fully vaccinated, and unemployment claims are the lowest on average since 1969.\\n \\nThese things didn’t happen by accident — they’re because of the American Rescue Plan.</td>\n",
       "      <td>39832</td>\n",
       "      <td>2021-12-17 23:40:44+00:00</td>\n",
       "    </tr>\n",
       "    <tr>\n",
       "      <th>2</th>\n",
       "      <td>Every kid in America should be able to turn on the faucet and drink clean water.\\n \\nMy Bipartisan Infrastructure Law is going to make that a reality.</td>\n",
       "      <td>22624</td>\n",
       "      <td>2021-12-17 18:45:29+00:00</td>\n",
       "    </tr>\n",
       "    <tr>\n",
       "      <th>3</th>\n",
       "      <td>In my first year in office, we’ve passed two of the most important pieces of economic legislation in decades.\\n \\nThe third is in its final stages — and I’m confident we’ll get it passed.</td>\n",
       "      <td>30555</td>\n",
       "      <td>2021-12-17 17:59:02+00:00</td>\n",
       "    </tr>\n",
       "    <tr>\n",
       "      <th>4</th>\n",
       "      <td>Tune in as I deliver remarks at South Carolina State University’s 2021 Fall Commencement Ceremony. https://t.co/FCfTwsZumy</td>\n",
       "      <td>4171</td>\n",
       "      <td>2021-12-17 15:26:42+00:00</td>\n",
       "    </tr>\n",
       "    <tr>\n",
       "      <th>...</th>\n",
       "      <td>...</td>\n",
       "      <td>...</td>\n",
       "      <td>...</td>\n",
       "    </tr>\n",
       "    <tr>\n",
       "      <th>195</th>\n",
       "      <td>To Lawrence – and every veteran out there – thank you for selfless service and sacrifice for our nation. We owe you a debt we can never fully repay. https://t.co/nUNR9Br2UX</td>\n",
       "      <td>13608</td>\n",
       "      <td>2021-11-21 16:00:18+00:00</td>\n",
       "    </tr>\n",
       "    <tr>\n",
       "      <th>196</th>\n",
       "      <td>With the Bipartisan Infrastructure Law, we will once again have the best roads, bridges, ports, and airports.\\n\\nWe will lead the world into the 21st century with modern cars and trucks and transit systems.\\n\\nWe will be building and moving again.</td>\n",
       "      <td>18952</td>\n",
       "      <td>2021-11-21 15:11:30+00:00</td>\n",
       "    </tr>\n",
       "    <tr>\n",
       "      <th>197</th>\n",
       "      <td>Congratulations to the Washington Spirit on winning your first-ever NWSL championship. Despite a year with no shortage of challenges, you’ve made the District and your country very proud.</td>\n",
       "      <td>28328</td>\n",
       "      <td>2021-11-20 22:45:36+00:00</td>\n",
       "    </tr>\n",
       "    <tr>\n",
       "      <th>198</th>\n",
       "      <td>Unions built the middle class in this country – and we couldn’t have gotten this infrastructure law done without them. https://t.co/5MjEZpNXM0</td>\n",
       "      <td>19959</td>\n",
       "      <td>2021-11-20 21:19:39+00:00</td>\n",
       "    </tr>\n",
       "    <tr>\n",
       "      <th>199</th>\n",
       "      <td>Last year alone in the United States, extreme weather events caused $99 billion in damage.\\n \\nThe Bipartisan Infrastructure Law builds back our bridges, water systems, power lines, and levees better and stronger.</td>\n",
       "      <td>15708</td>\n",
       "      <td>2021-11-20 19:23:50+00:00</td>\n",
       "    </tr>\n",
       "  </tbody>\n",
       "</table>\n",
       "<p>195 rows × 3 columns</p>\n",
       "</div>"
      ],
      "text/plain": [
       "                                                                                                                                                                                                                                                                                                         tweets  \\\n",
       "0    No class gets to choose the world into which they graduate. But few classes enter at a point in history where they actually have a chance to change the trajectory of the country.\\n\\nWe face an inflection point today. And I’m confident the class of 2021 will meet the moment. https://t.co/sDFvvT3CKi   \n",
       "1                                        Since I took office, nearly 6 million jobs have been created, over 200 million Americans are fully vaccinated, and unemployment claims are the lowest on average since 1969.\\n \\nThese things didn’t happen by accident — they’re because of the American Rescue Plan.   \n",
       "2                                                                                                                                                        Every kid in America should be able to turn on the faucet and drink clean water.\\n \\nMy Bipartisan Infrastructure Law is going to make that a reality.   \n",
       "3                                                                                                                   In my first year in office, we’ve passed two of the most important pieces of economic legislation in decades.\\n \\nThe third is in its final stages — and I’m confident we’ll get it passed.   \n",
       "4                                                                                                                                                                                    Tune in as I deliver remarks at South Carolina State University’s 2021 Fall Commencement Ceremony. https://t.co/FCfTwsZumy   \n",
       "..                                                                                                                                                                                                                                                                                                          ...   \n",
       "195                                                                                                                                To Lawrence – and every veteran out there – thank you for selfless service and sacrifice for our nation. We owe you a debt we can never fully repay. https://t.co/nUNR9Br2UX   \n",
       "196                                                     With the Bipartisan Infrastructure Law, we will once again have the best roads, bridges, ports, and airports.\\n\\nWe will lead the world into the 21st century with modern cars and trucks and transit systems.\\n\\nWe will be building and moving again.   \n",
       "197                                                                                                                 Congratulations to the Washington Spirit on winning your first-ever NWSL championship. Despite a year with no shortage of challenges, you’ve made the District and your country very proud.   \n",
       "198                                                                                                                                                              Unions built the middle class in this country – and we couldn’t have gotten this infrastructure law done without them. https://t.co/5MjEZpNXM0   \n",
       "199                                                                                       Last year alone in the United States, extreme weather events caused $99 billion in damage.\\n \\nThe Bipartisan Infrastructure Law builds back our bridges, water systems, power lines, and levees better and stronger.   \n",
       "\n",
       "     likes                      time  \n",
       "0     8783 2021-12-18 01:27:50+00:00  \n",
       "1    39832 2021-12-17 23:40:44+00:00  \n",
       "2    22624 2021-12-17 18:45:29+00:00  \n",
       "3    30555 2021-12-17 17:59:02+00:00  \n",
       "4     4171 2021-12-17 15:26:42+00:00  \n",
       "..     ...                       ...  \n",
       "195  13608 2021-11-21 16:00:18+00:00  \n",
       "196  18952 2021-11-21 15:11:30+00:00  \n",
       "197  28328 2021-11-20 22:45:36+00:00  \n",
       "198  19959 2021-11-20 21:19:39+00:00  \n",
       "199  15708 2021-11-20 19:23:50+00:00  \n",
       "\n",
       "[195 rows x 3 columns]"
      ]
     },
     "execution_count": 9,
     "metadata": {},
     "output_type": "execute_result"
    }
   ],
   "source": [
    "df\n",
    "# only 7 retweets out of 200 tweets Joe!"
   ]
  },
  {
   "cell_type": "code",
   "execution_count": 10,
   "id": "78324292",
   "metadata": {},
   "outputs": [
    {
     "data": {
      "text/html": [
       "<div>\n",
       "<style scoped>\n",
       "    .dataframe tbody tr th:only-of-type {\n",
       "        vertical-align: middle;\n",
       "    }\n",
       "\n",
       "    .dataframe tbody tr th {\n",
       "        vertical-align: top;\n",
       "    }\n",
       "\n",
       "    .dataframe thead th {\n",
       "        text-align: right;\n",
       "    }\n",
       "</style>\n",
       "<table border=\"1\" class=\"dataframe\">\n",
       "  <thead>\n",
       "    <tr style=\"text-align: right;\">\n",
       "      <th></th>\n",
       "      <th>tweets</th>\n",
       "      <th>likes</th>\n",
       "      <th>time</th>\n",
       "    </tr>\n",
       "  </thead>\n",
       "  <tbody>\n",
       "    <tr>\n",
       "      <th>40</th>\n",
       "      <td>The music world has lost an icon. \\n\\nThe music of Vicente Fernández created memories for millions. We send our condolences to his family and all those who loved him.\\n\\nVicente will be remembered for generations to come.</td>\n",
       "      <td>123215</td>\n",
       "      <td>2021-12-13 02:22:37+00:00</td>\n",
       "    </tr>\n",
       "    <tr>\n",
       "      <th>76</th>\n",
       "      <td>Get your booster shot, folks.</td>\n",
       "      <td>100007</td>\n",
       "      <td>2021-12-07 21:11:16+00:00</td>\n",
       "    </tr>\n",
       "    <tr>\n",
       "      <th>166</th>\n",
       "      <td>From the Biden family to yours – Happy Thanksgiving. https://t.co/r0mhQtQS69</td>\n",
       "      <td>92556</td>\n",
       "      <td>2021-11-25 14:00:58+00:00</td>\n",
       "    </tr>\n",
       "    <tr>\n",
       "      <th>48</th>\n",
       "      <td>I am deeply troubled by reports of Kellogg’s plans to permanently replace striking workers. Permanently replacing striking workers is an existential attack on the union and its members’ jobs and livelihoods. I strongly support legislation that would ban that practice.</td>\n",
       "      <td>86699</td>\n",
       "      <td>2021-12-10 22:22:41+00:00</td>\n",
       "    </tr>\n",
       "    <tr>\n",
       "      <th>153</th>\n",
       "      <td>Because of the actions we’ve taken, in the past three weeks, the number of containers sitting on docks is down 33% — and shipping prices are down 25%. Goods are moving quicker out of our ports and onto doorsteps and store shelves.</td>\n",
       "      <td>82279</td>\n",
       "      <td>2021-11-27 21:56:42+00:00</td>\n",
       "    </tr>\n",
       "  </tbody>\n",
       "</table>\n",
       "</div>"
      ],
      "text/plain": [
       "                                                                                                                                                                                                                                                                           tweets  \\\n",
       "40                                                  The music world has lost an icon. \\n\\nThe music of Vicente Fernández created memories for millions. We send our condolences to his family and all those who loved him.\\n\\nVicente will be remembered for generations to come.   \n",
       "76                                                                                                                                                                                                                                                  Get your booster shot, folks.   \n",
       "166                                                                                                                                                                                                  From the Biden family to yours – Happy Thanksgiving. https://t.co/r0mhQtQS69   \n",
       "48   I am deeply troubled by reports of Kellogg’s plans to permanently replace striking workers. Permanently replacing striking workers is an existential attack on the union and its members’ jobs and livelihoods. I strongly support legislation that would ban that practice.   \n",
       "153                                        Because of the actions we’ve taken, in the past three weeks, the number of containers sitting on docks is down 33% — and shipping prices are down 25%. Goods are moving quicker out of our ports and onto doorsteps and store shelves.   \n",
       "\n",
       "      likes                      time  \n",
       "40   123215 2021-12-13 02:22:37+00:00  \n",
       "76   100007 2021-12-07 21:11:16+00:00  \n",
       "166   92556 2021-11-25 14:00:58+00:00  \n",
       "48    86699 2021-12-10 22:22:41+00:00  \n",
       "153   82279 2021-11-27 21:56:42+00:00  "
      ]
     },
     "execution_count": 10,
     "metadata": {},
     "output_type": "execute_result"
    }
   ],
   "source": [
    "# Joe's 5 mostly liked tweets\n",
    "mostlike = df.loc[df.likes.nlargest(5).index]\n",
    "mostlike"
   ]
  },
  {
   "cell_type": "code",
   "execution_count": 11,
   "id": "263b4928",
   "metadata": {},
   "outputs": [
    {
     "name": "stdout",
     "output_type": "stream",
     "text": [
      "********************************************************************************\n",
      "5 mostly liked Tweets posted by President Biden\n",
      "********************************************************************************\n",
      "The music world has lost an icon. \n",
      "\n",
      "The music of Vicente Fernández created memories for millions. We send our condolences to his family and all those who loved him.\n",
      "\n",
      "Vicente will be remembered for generations to come.\n",
      "--------------------------------------------------------------------------------\n",
      "Get your booster shot, folks.\n",
      "--------------------------------------------------------------------------------\n",
      "From the Biden family to yours – Happy Thanksgiving. https://t.co/r0mhQtQS69\n",
      "--------------------------------------------------------------------------------\n",
      "I am deeply troubled by reports of Kellogg’s plans to permanently replace striking workers. Permanently replacing striking workers is an existential attack on the union and its members’ jobs and livelihoods. I strongly support legislation that would ban that practice.\n",
      "--------------------------------------------------------------------------------\n",
      "Because of the actions we’ve taken, in the past three weeks, the number of containers sitting on docks is down 33% — and shipping prices are down 25%. Goods are moving quicker out of our ports and onto doorsteps and store shelves.\n",
      "--------------------------------------------------------------------------------\n"
     ]
    }
   ],
   "source": [
    "# Top 5 tweets (full text)\n",
    "ind_lst = list(mostlike.index)\n",
    "# print(type(ind_lst))\n",
    "# print(ind_lst)\n",
    "# print()\n",
    "print(\"*\" * 80)\n",
    "print(\"5 mostly liked Tweets posted by President Biden\")\n",
    "print(\"*\" * 80)\n",
    "\n",
    "for i in ind_lst:\n",
    "    print(mostlike.loc[i]['tweets'])\n",
    "    print(\"-\" * 80)"
   ]
  },
  {
   "cell_type": "code",
   "execution_count": 12,
   "id": "3b5038b0",
   "metadata": {},
   "outputs": [],
   "source": [
    "list_of_sentences = [sentence for sentence in df.tweets]\n",
    "\n",
    "lines = []\n",
    "for sentence in list_of_sentences:\n",
    "    words = sentence.split()\n",
    "    for w in words:\n",
    "        lines.append(w)"
   ]
  },
  {
   "cell_type": "code",
   "execution_count": 13,
   "id": "87139ab1",
   "metadata": {},
   "outputs": [],
   "source": [
    "lines = [re.sub(r'[^A-Za-z0-9]+','', x) for x in lines]\n",
    "\n",
    "lines2 = []\n",
    "\n",
    "for word in lines:\n",
    "    if word != '':\n",
    "        if word != '':\n",
    "            lines2.append(word)\n"
   ]
  },
  {
   "cell_type": "code",
   "execution_count": 14,
   "id": "42b520d0",
   "metadata": {},
   "outputs": [],
   "source": [
    "from nltk.stem.snowball import SnowballStemmer\n",
    "\n",
    "s_stemmer = SnowballStemmer(language = 'english')\n",
    "\n",
    "stem = []\n",
    "for word in lines2:\n",
    "    stem.append(s_stemmer.stem(word))"
   ]
  },
  {
   "cell_type": "code",
   "execution_count": 15,
   "id": "169521e0",
   "metadata": {},
   "outputs": [],
   "source": [
    "stem2 = []\n",
    "\n",
    "for word in stem:\n",
    "    if word not in nlp.Defaults.stop_words:\n",
    "        stem2.append(word)"
   ]
  },
  {
   "cell_type": "code",
   "execution_count": 16,
   "id": "1d465e94",
   "metadata": {},
   "outputs": [],
   "source": [
    "df2 = pd.DataFrame(stem2)\n",
    "df2 = df2[0].value_counts()"
   ]
  },
  {
   "cell_type": "code",
   "execution_count": 17,
   "id": "f2167361",
   "metadata": {},
   "outputs": [
    {
     "data": {
      "image/png": "[encoded data removed]",
      "text/plain": [
       "<Figure size 720x720 with 1 Axes>"
      ]
     },
     "metadata": {
      "needs_background": "light"
     },
     "output_type": "display_data"
    }
   ],
   "source": [
    "df2 = df2[:20,]\n",
    "plt.figure(figsize = (10, 10))\n",
    "sns.barplot(df2.values, df2.index, alpha = 1)\n",
    "plt.title('Top Words Overall')\n",
    "plt.ylabel('Word from Tweet', fontsize = 12)\n",
    "plt.xlabel('Count of Words', fontsize = 12)\n",
    "plt.show()"
   ]
  },
  {
   "cell_type": "code",
   "execution_count": 18,
   "id": "046fa5b8",
   "metadata": {},
   "outputs": [],
   "source": [
    "def show_ents(doc):\n",
    "    if doc.ents:\n",
    "        for ent in doc.ents:\n",
    "            print(ent.text + ' - ' + ent.label_ + ' - ' + str(spacy.explain(ent.label_)))"
   ]
  },
  {
   "cell_type": "code",
   "execution_count": 19,
   "id": "b77fd04f",
   "metadata": {},
   "outputs": [],
   "source": [
    "str1 = \" \"\n",
    "stem2 = str1.join(lines2)\n",
    "stem2 = nlp(stem2)\n",
    "label = [(X.text, X.label_) for X in stem2.ents]\n",
    "df6 = pd.DataFrame(label, columns = ['Word', 'Entity'])\n",
    "df7 = df6.where(df6['Entity'] == 'ORG')\n",
    "df7 = df7['Word'].value_counts()\n"
   ]
  },
  {
   "cell_type": "code",
   "execution_count": 20,
   "id": "42c002ac",
   "metadata": {},
   "outputs": [
    {
     "data": {
      "image/png": "[encoded data removed]",
      "text/plain": [
       "<Figure size 720x360 with 1 Axes>"
      ]
     },
     "metadata": {
      "needs_background": "light"
     },
     "output_type": "display_data"
    }
   ],
   "source": [
    "dfx = df7[:20,]\n",
    "plt.figure(figsize = (10, 5))\n",
    "sns.barplot(dfx.values, dfx.index, alpha = 1)\n",
    "plt.title('Top Organizations Mentioned')\n",
    "plt.ylabel('Word from Tweet', fontsize = 12)\n",
    "plt.xlabel('Count of Words', fontsize = 12)\n",
    "plt.show()"
   ]
  }
 ],
 "metadata": {
  "kernelspec": {
   "display_name": "Python 3 (ipykernel)",
   "language": "python",
   "name": "python3"
  },
  "language_info": {
   "codemirror_mode": {
    "name": "ipython",
    "version": 3
   },
   "file_extension": ".py",
   "mimetype": "text/x-python",
   "name": "python",
   "nbconvert_exporter": "python",
   "pygments_lexer": "ipython3",
   "version": "3.10.0"
  }
 },
 "nbformat": 4,
 "nbformat_minor": 5
}
